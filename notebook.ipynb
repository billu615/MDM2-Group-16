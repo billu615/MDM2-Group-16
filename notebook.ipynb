{
 "cells": [
  {
   "cell_type": "code",
   "execution_count": 1,
   "metadata": {},
   "outputs": [],
   "source": [
    "import seaborn as sns\n",
    "from pollinator_model import PollinatorModel"
   ]
  },
  {
   "cell_type": "code",
   "execution_count": 2,
   "metadata": {},
   "outputs": [
    {
     "name": "stdout",
     "output_type": "stream",
     "text": [
      "processing\n",
      "death by poison\n",
      "death by poison\n",
      "death by poison\n",
      "death by poison\n",
      "death by poison\n",
      "death by poison\n",
      "death by poison\n",
      "death by poison\n",
      "death by poison\n",
      "death by poison\n",
      "death by poison\n",
      "death by poison\n",
      "death by poison\n",
      "death by poison\n",
      "death by poison\n",
      "death by poison\n",
      "death by poison\n",
      "death by poison\n",
      "death by poison\n",
      "death by poison\n",
      "death by poison\n",
      "death by poison\n",
      "death by poison\n",
      "death by poison\n",
      "death by poison\n",
      "death by poison\n",
      "death by poison\n",
      "death by poison\n",
      "death by poison\n",
      "death by poison\n",
      "death by poison\n",
      "death by poison\n",
      "death by poison\n",
      "death by poison\n",
      "death by poison\n",
      "death by poison\n",
      "death by poison\n",
      "death by poison\n",
      "death by poison\n",
      "death by poison\n",
      "death by poison\n",
      "death by poison\n",
      "death by poison\n",
      "death by poison\n",
      "death by poison\n",
      "death by poison\n",
      "death by poison\n",
      "death by poison\n",
      "death by poison\n",
      "death by poison\n",
      "death by poison\n",
      "     Total Pollinators  Average Bee Health  Contaminated Bees\n",
      "0                  100             5.00000                  0\n",
      "1                  100             5.00000                  0\n",
      "2                  100             5.00000                  0\n",
      "3                  100             4.99000                  1\n",
      "4                  100             4.99000                  1\n",
      "..                 ...                 ...                ...\n",
      "995                 49             3.44898                 27\n",
      "996                 49             3.44898                 27\n",
      "997                 49             3.44898                 27\n",
      "998                 49             3.44898                 27\n",
      "999                 49             3.44898                 27\n",
      "\n",
      "[1000 rows x 3 columns]\n"
     ]
    },
    {
     "data": {
      "image/png": "[encoded data removed]",
      "text/plain": [
       "<Figure size 640x480 with 1 Axes>"
      ]
     },
     "metadata": {},
     "output_type": "display_data"
    }
   ],
   "source": [
    "print('processing')\n",
    "model = PollinatorModel(bee_type='bumblebee', width=500, height=500, pesticide_ratio=0.7)\n",
    "for _ in range(1000):\n",
    "    model.step()\n",
    "data = model.datacollector.get_model_vars_dataframe()\n",
    "print(data)\n",
    "g = sns.lineplot(data=data['Total Pollinators'])"
   ]
  }
 ],
 "metadata": {
  "kernelspec": {
   "display_name": ".venv",
   "language": "python",
   "name": "python3"
  },
  "language_info": {
   "codemirror_mode": {
    "name": "ipython",
    "version": 3
   },
   "file_extension": ".py",
   "mimetype": "text/x-python",
   "name": "python",
   "nbconvert_exporter": "python",
   "pygments_lexer": "ipython3",
   "version": "3.13.1"
  }
 },
 "nbformat": 4,
 "nbformat_minor": 2
}
